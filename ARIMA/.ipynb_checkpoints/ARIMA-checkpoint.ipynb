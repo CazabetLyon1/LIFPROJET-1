{
 "cells": [
  {
   "cell_type": "raw",
   "metadata": {},
   "source": [
    "ARIMA signifie Autoregressive integrated moving average.\n",
    "\n",
    "AR, auto-regressif, signifie que le modèle va se baser sur l'évolution des données précédentes pour effectuer a prédiction.\n",
    "\n",
    "MA, moving average, indique que l'erreur de régression (les résidus statistiques que le modèle n'arrive pas à expliquer) est en fait une combinaison linéaire de différentes erreurs dont les valeurs se sont produites simultanément et à divers moments dans le passé.\n",
    "\n",
    "I, integrated, indique que les valeurs des données ont été remplacées par la différence entre leurs valeurs et les valeurs précédentes (processus de différenciation). \n",
    "\n",
    "Le but de chacune de ces caractéristiques est de faire en sorte que le modèle corresponde le mieux possible aux données."
   ]
  },
  {
   "cell_type": "code",
   "execution_count": null,
   "metadata": {},
   "outputs": [
    {
     "name": "stderr",
     "output_type": "stream",
     "text": [
      "/anaconda3/lib/python3.6/site-packages/statsmodels/compat/pandas.py:56: FutureWarning: The pandas.core.datetools module is deprecated and will be removed in a future version. Please use the pandas.tseries module instead.\n",
      "  from pandas.core import datetools\n"
     ]
    },
    {
     "name": "stdout",
     "output_type": "stream",
     "text": [
      "predicted=499.202798, expected=423.666667\n",
      "predicted=391.233186, expected=458.166667\n",
      "predicted=483.197849, expected=511.000000\n",
      "predicted=530.660763, expected=487.666667\n",
      "predicted=485.965723, expected=472.000000\n",
      "predicted=493.373383, expected=611.166667\n",
      "predicted=659.503594, expected=539.500000\n",
      "predicted=456.659235, expected=458.166667\n",
      "predicted=469.564717, expected=410.166667\n",
      "predicted=390.831742, expected=364.333333\n",
      "predicted=321.700942, expected=400.166667\n",
      "predicted=447.668458, expected=396.333333\n",
      "predicted=402.273467, expected=304.333333\n",
      "predicted=286.341515, expected=301.000000\n",
      "predicted=331.892687, expected=389.166667\n",
      "predicted=407.831316, expected=471.500000\n",
      "predicted=492.897997, expected=511.833333\n",
      "predicted=540.301982, expected=575.000000\n",
      "predicted=593.966285, expected=572.000000\n",
      "predicted=528.919798, expected=574.333333\n",
      "predicted=561.474793, expected=611.500000\n",
      "predicted=610.443486, expected=605.833333\n",
      "predicted=578.739904, expected=566.166667\n",
      "predicted=556.081507, expected=486.500000\n",
      "predicted=457.525215, expected=417.000000\n",
      "predicted=395.560280, expected=457.000000\n",
      "predicted=488.687794, expected=509.833333\n",
      "predicted=529.763489, expected=478.500000\n",
      "predicted=481.506179, expected=486.333333\n",
      "predicted=517.933701, expected=643.333333\n",
      "predicted=690.395534, expected=553.500000\n",
      "predicted=461.821277, expected=466.666667\n",
      "predicted=482.689367, expected=392.500000\n",
      "predicted=353.304761, expected=376.333333\n",
      "predicted=351.172964, expected=400.166667\n",
      "predicted=435.162582, expected=394.666667\n",
      "predicted=411.520360, expected=314.500000\n",
      "predicted=303.363332, expected=330.333333\n",
      "predicted=360.401311, expected=408.333333\n",
      "predicted=421.758918, expected=468.333333\n",
      "predicted=484.604324, expected=513.500000\n",
      "predicted=544.126234, expected=509.833333\n",
      "predicted=491.675433, expected=546.000000\n",
      "predicted=544.504299, expected=590.500000\n",
      "predicted=580.332950, expected=589.833333\n",
      "predicted=571.856778, expected=582.000000\n",
      "predicted=581.944931, expected=554.833333\n",
      "predicted=531.847941, expected=483.666667\n"
     ]
    }
   ],
   "source": [
    "from datetime import datetime\n",
    "import pandas as pd\n",
    "import numpy as np\n",
    "import matplotlib.pyplot as plt\n",
    "import numpy\n",
    "from sklearn.metrics import mean_squared_error\n",
    "from statsmodels.tsa.arima_model import ARIMA\n",
    "from pandas.plotting import autocorrelation_plot\n",
    "from pandas import DataFrame\n",
    "\n",
    "conso = pd.read_csv('./Data/conso_train.csv', sep=';')\n",
    "conso.date = pd.to_datetime(conso.date)\n",
    "conso.index = conso.date\n",
    "\n",
    "X = conso.puissance\n",
    "size = int(len(X) * 0.98)\n",
    "train, test = X[0:size], X[size:len(X)]\n",
    "history = [x for x in train]\n",
    "predictions = list()\n",
    "for t in range(len(test)):\n",
    "\tmodel = ARIMA(history, order=(5,1,0))\n",
    "\tmodel_fit = model.fit(disp=0)\n",
    "\toutput = model_fit.forecast()\n",
    "\tyhat = output[0]\n",
    "\tpredictions.append(yhat)\n",
    "\tobs = test[t]\n",
    "\thistory.append(obs)\n",
    "\tprint('predicted=%f, expected=%f' % (yhat, obs))\n",
    "error = mean_squared_error(test, predictions)\n",
    "print('Test MSE: %.3f' % error)\n",
    "# conversion de la liste predictions en DataFrame et ajout du même index que Test pour pouvoir les plot sur le même graphe\n",
    "predictions = pd.DataFrame.from_records(predictions)\n",
    "predictions.index = test.index\n",
    "plt.plot(test)\n",
    "plt.plot(predictions, color='red')\n",
    "plt.show()"
   ]
  },
  {
   "cell_type": "raw",
   "metadata": {},
   "source": [
    "On entraine donc le modèle sur 98% des données et on vérifie sa précision sur les 2% restants, soit un peu plus de 7 jours.\n",
    "\n",
    "Avec un MSE de 3246,013, soit un RMSE de 56,97 (c'est à dire une différence moyenne de 56,97kWh entre la prédiction et la véritable valeur) cette méthode est très prometteuse.\n",
    "\n",
    "Le seul problème est qu'elle utilise seulement l'autoregression. C'est-à-dire qu'ARIMA peut prédire la consommation uniquement suivant la consommation passée elle-même, et n'utilisera donc pas les données météorologiques."
   ]
  }
 ],
 "metadata": {
  "kernelspec": {
   "display_name": "Python 3",
   "language": "python",
   "name": "python3"
  },
  "language_info": {
   "codemirror_mode": {
    "name": "ipython",
    "version": 3
   },
   "file_extension": ".py",
   "mimetype": "text/x-python",
   "name": "python",
   "nbconvert_exporter": "python",
   "pygments_lexer": "ipython3",
   "version": "3.6.3"
  }
 },
 "nbformat": 4,
 "nbformat_minor": 2
}
